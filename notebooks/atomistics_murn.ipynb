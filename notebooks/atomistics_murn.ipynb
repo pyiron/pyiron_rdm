{
 "cells": [
  {
   "cell_type": "markdown",
   "id": "d9b488ad-778d-4506-96c6-42cdaf6a2985",
   "metadata": {},
   "source": [
    "##### Add pyiron_rdm to syspath"
   ]
  },
  {
   "cell_type": "code",
   "execution_count": 1,
   "id": "56afd829-6803-4e53-b5da-6237b1b1fcb9",
   "metadata": {},
   "outputs": [],
   "source": [
    "import sys, os\n",
    "sys.path.append(os.path.abspath(os.path.join(os.getcwd(), '..')))"
   ]
  },
  {
   "cell_type": "markdown",
   "id": "5d289a89-cea5-45a1-bd16-8eca40aa9500",
   "metadata": {},
   "source": [
    "## Upload of a pyiron Murnaghan job to openBIS\n",
    "\n",
    "This notebook shows the upload of a pyiron Murnaghan job using LAMMPS to the BAM or SFB1394 openBIS instances, using the pyiron_rdm interface."
   ]
  },
  {
   "cell_type": "code",
   "execution_count": 2,
   "id": "4bdacdfe-9eb6-4993-9526-ebb9f0a09a18",
   "metadata": {},
   "outputs": [
    {
     "name": "stderr",
     "output_type": "stream",
     "text": [
      "2025-08-27 12:17:57,090 - pyiron_log - WARNING - pyiron found a 'dynamic' folder in the C:/Users/pkruziko/pyiron/resources resource directory. These are no longer supported in pyiron_base >=0.7.0. They are replaced by Project.create_job_class() and Project.wrap_python_function().\n",
      "2025-08-27 12:17:57,092 - pyiron_log - WARNING - pyiron found a 'templates' folder in the C:/Users/pkruziko/pyiron/resources resource directory. These are no longer supported in pyiron_base >=0.7.0. They are replaced by Project.create_job_class() and Project.wrap_python_function().\n"
     ]
    },
    {
     "data": {
      "application/vnd.jupyter.widget-view+json": {
       "model_id": "eaa0cc140e7c44199102535c2ba51341",
       "version_major": 2,
       "version_minor": 0
      },
      "text/plain": []
     },
     "metadata": {},
     "output_type": "display_data"
    }
   ],
   "source": [
    "from pyiron_atomistics import Project"
   ]
  },
  {
   "cell_type": "code",
   "execution_count": 3,
   "id": "86d0b052-c100-44b2-82ca-09784e1557fa",
   "metadata": {},
   "outputs": [],
   "source": [
    "# project\n",
    "\n",
    "pr = Project(\"murn_atomistics\")"
   ]
  },
  {
   "cell_type": "code",
   "execution_count": 4,
   "id": "b47a0545-e84e-46f2-9445-ea9a5bbc05b8",
   "metadata": {},
   "outputs": [
    {
     "data": {
      "application/vnd.jupyter.widget-view+json": {
       "model_id": "c451eb353aff4690af3f2ca9a89239a9",
       "version_major": 2,
       "version_minor": 0
      },
      "text/plain": [
       "NGLWidget()"
      ]
     },
     "metadata": {},
     "output_type": "display_data"
    }
   ],
   "source": [
    "# structure\n",
    "\n",
    "structure = pr.create.structure.bulk(\"Fe\", cubic=True, a=2.845)\n",
    "structure.plot3d()"
   ]
  },
  {
   "cell_type": "code",
   "execution_count": 5,
   "id": "1305ec9f-7ad1-4edc-8dec-1620e1c7adfa",
   "metadata": {},
   "outputs": [],
   "source": [
    "# lammps minimise job\n",
    "\n",
    "job = pr.create.job.Lammps(\"lammps_template\", delete_existing_job=True)\n",
    "job.structure = structure\n",
    "job.potential = job.list_potentials()[68]\n",
    "job.calc_minimize(ionic_force_tolerance=1e-8, style=\"fire\")"
   ]
  },
  {
   "cell_type": "code",
   "execution_count": 6,
   "id": "b7532d19-ca7d-4977-b0e1-98992b328e3b",
   "metadata": {},
   "outputs": [
    {
     "name": "stdout",
     "output_type": "stream",
     "text": [
      "The job murn_atom was saved and received the ID: 775\n",
      "The job murn_atom_0_95 was saved and received the ID: 776\n",
      "The job murn_atom_0_9666667 was saved and received the ID: 777\n",
      "The job murn_atom_0_9833333 was saved and received the ID: 778\n",
      "The job murn_atom_1_0 was saved and received the ID: 779\n",
      "The job murn_atom_1_0166667 was saved and received the ID: 780\n",
      "The job murn_atom_1_0333333 was saved and received the ID: 781\n",
      "The job murn_atom_1_05 was saved and received the ID: 782\n"
     ]
    }
   ],
   "source": [
    "# murn job from above lammps\n",
    "\n",
    "murn = job.create_job(job_type=pr.job_type.Murnaghan, job_name=\"murn_atom\", delete_existing_job=True)\n",
    "murn.input['fit_type'] = \"birchmurnaghan\"\n",
    "murn.input['num_points'] = 7\n",
    "murn.input['fit_order'] = 3\n",
    "murn.input['vol_range'] = 0.05\n",
    "murn.run()"
   ]
  },
  {
   "cell_type": "code",
   "execution_count": 7,
   "id": "5c021d57-f20a-4ac4-a8f5-197bcf12974b",
   "metadata": {},
   "outputs": [
    {
     "data": {
      "text/html": [
       "<div>\n",
       "<style scoped>\n",
       "    .dataframe tbody tr th:only-of-type {\n",
       "        vertical-align: middle;\n",
       "    }\n",
       "\n",
       "    .dataframe tbody tr th {\n",
       "        vertical-align: top;\n",
       "    }\n",
       "\n",
       "    .dataframe thead th {\n",
       "        text-align: right;\n",
       "    }\n",
       "</style>\n",
       "<table border=\"1\" class=\"dataframe\">\n",
       "  <thead>\n",
       "    <tr style=\"text-align: right;\">\n",
       "      <th></th>\n",
       "      <th>id</th>\n",
       "      <th>status</th>\n",
       "      <th>chemicalformula</th>\n",
       "      <th>job</th>\n",
       "      <th>subjob</th>\n",
       "      <th>projectpath</th>\n",
       "      <th>project</th>\n",
       "      <th>timestart</th>\n",
       "      <th>timestop</th>\n",
       "      <th>totalcputime</th>\n",
       "      <th>computer</th>\n",
       "      <th>hamilton</th>\n",
       "      <th>hamversion</th>\n",
       "      <th>parentid</th>\n",
       "      <th>masterid</th>\n",
       "    </tr>\n",
       "  </thead>\n",
       "  <tbody>\n",
       "    <tr>\n",
       "      <th>0</th>\n",
       "      <td>774</td>\n",
       "      <td>finished</td>\n",
       "      <td>None</td>\n",
       "      <td>table</td>\n",
       "      <td>/table</td>\n",
       "      <td>None</td>\n",
       "      <td>C:/Users/pkruziko/Documents/pyiron_rdm/notebooks/murn_atomistics/</td>\n",
       "      <td>2025-08-27 12:16:08.544709</td>\n",
       "      <td>2025-08-27 12:16:10.245634</td>\n",
       "      <td>1.0</td>\n",
       "      <td>pyiron@NB4267#1</td>\n",
       "      <td>TableJob</td>\n",
       "      <td>0.1</td>\n",
       "      <td>None</td>\n",
       "      <td>NaN</td>\n",
       "    </tr>\n",
       "    <tr>\n",
       "      <th>1</th>\n",
       "      <td>775</td>\n",
       "      <td>finished</td>\n",
       "      <td>Fe2</td>\n",
       "      <td>murn_atom</td>\n",
       "      <td>/murn_atom</td>\n",
       "      <td>None</td>\n",
       "      <td>C:/Users/pkruziko/Documents/pyiron_rdm/notebooks/murn_atomistics/</td>\n",
       "      <td>2025-08-27 12:18:03.213294</td>\n",
       "      <td>2025-08-27 12:18:14.368098</td>\n",
       "      <td>11.0</td>\n",
       "      <td>pyiron@NB4267#1#7/7</td>\n",
       "      <td>Murnaghan</td>\n",
       "      <td>0.3.0</td>\n",
       "      <td>None</td>\n",
       "      <td>NaN</td>\n",
       "    </tr>\n",
       "    <tr>\n",
       "      <th>2</th>\n",
       "      <td>776</td>\n",
       "      <td>finished</td>\n",
       "      <td>Fe2</td>\n",
       "      <td>murn_atom_0_95</td>\n",
       "      <td>/murn_atom_0_95</td>\n",
       "      <td>None</td>\n",
       "      <td>C:/Users/pkruziko/Documents/pyiron_rdm/notebooks/murn_atomistics/murn_atom_hdf5/</td>\n",
       "      <td>2025-08-27 12:18:05.045485</td>\n",
       "      <td>2025-08-27 12:18:05.862548</td>\n",
       "      <td>0.0</td>\n",
       "      <td>pyiron@NB4267#1</td>\n",
       "      <td>Lammps</td>\n",
       "      <td>0.1</td>\n",
       "      <td>None</td>\n",
       "      <td>775.0</td>\n",
       "    </tr>\n",
       "    <tr>\n",
       "      <th>3</th>\n",
       "      <td>777</td>\n",
       "      <td>finished</td>\n",
       "      <td>Fe2</td>\n",
       "      <td>murn_atom_0_9666667</td>\n",
       "      <td>/murn_atom_0_9666667</td>\n",
       "      <td>None</td>\n",
       "      <td>C:/Users/pkruziko/Documents/pyiron_rdm/notebooks/murn_atomistics/murn_atom_hdf5/</td>\n",
       "      <td>2025-08-27 12:18:06.394120</td>\n",
       "      <td>2025-08-27 12:18:07.218145</td>\n",
       "      <td>0.0</td>\n",
       "      <td>pyiron@NB4267#1</td>\n",
       "      <td>Lammps</td>\n",
       "      <td>0.1</td>\n",
       "      <td>None</td>\n",
       "      <td>775.0</td>\n",
       "    </tr>\n",
       "    <tr>\n",
       "      <th>4</th>\n",
       "      <td>778</td>\n",
       "      <td>finished</td>\n",
       "      <td>Fe2</td>\n",
       "      <td>murn_atom_0_9833333</td>\n",
       "      <td>/murn_atom_0_9833333</td>\n",
       "      <td>None</td>\n",
       "      <td>C:/Users/pkruziko/Documents/pyiron_rdm/notebooks/murn_atomistics/murn_atom_hdf5/</td>\n",
       "      <td>2025-08-27 12:18:07.724063</td>\n",
       "      <td>2025-08-27 12:18:08.543437</td>\n",
       "      <td>0.0</td>\n",
       "      <td>pyiron@NB4267#1</td>\n",
       "      <td>Lammps</td>\n",
       "      <td>0.1</td>\n",
       "      <td>None</td>\n",
       "      <td>775.0</td>\n",
       "    </tr>\n",
       "    <tr>\n",
       "      <th>5</th>\n",
       "      <td>779</td>\n",
       "      <td>finished</td>\n",
       "      <td>Fe2</td>\n",
       "      <td>murn_atom_1_0</td>\n",
       "      <td>/murn_atom_1_0</td>\n",
       "      <td>None</td>\n",
       "      <td>C:/Users/pkruziko/Documents/pyiron_rdm/notebooks/murn_atomistics/murn_atom_hdf5/</td>\n",
       "      <td>2025-08-27 12:18:09.031498</td>\n",
       "      <td>2025-08-27 12:18:09.835894</td>\n",
       "      <td>0.0</td>\n",
       "      <td>pyiron@NB4267#1</td>\n",
       "      <td>Lammps</td>\n",
       "      <td>0.1</td>\n",
       "      <td>None</td>\n",
       "      <td>775.0</td>\n",
       "    </tr>\n",
       "    <tr>\n",
       "      <th>6</th>\n",
       "      <td>780</td>\n",
       "      <td>finished</td>\n",
       "      <td>Fe2</td>\n",
       "      <td>murn_atom_1_0166667</td>\n",
       "      <td>/murn_atom_1_0166667</td>\n",
       "      <td>None</td>\n",
       "      <td>C:/Users/pkruziko/Documents/pyiron_rdm/notebooks/murn_atomistics/murn_atom_hdf5/</td>\n",
       "      <td>2025-08-27 12:18:10.297730</td>\n",
       "      <td>2025-08-27 12:18:11.094402</td>\n",
       "      <td>0.0</td>\n",
       "      <td>pyiron@NB4267#1</td>\n",
       "      <td>Lammps</td>\n",
       "      <td>0.1</td>\n",
       "      <td>None</td>\n",
       "      <td>775.0</td>\n",
       "    </tr>\n",
       "    <tr>\n",
       "      <th>7</th>\n",
       "      <td>781</td>\n",
       "      <td>finished</td>\n",
       "      <td>Fe2</td>\n",
       "      <td>murn_atom_1_0333333</td>\n",
       "      <td>/murn_atom_1_0333333</td>\n",
       "      <td>None</td>\n",
       "      <td>C:/Users/pkruziko/Documents/pyiron_rdm/notebooks/murn_atomistics/murn_atom_hdf5/</td>\n",
       "      <td>2025-08-27 12:18:11.600756</td>\n",
       "      <td>2025-08-27 12:18:12.402314</td>\n",
       "      <td>0.0</td>\n",
       "      <td>pyiron@NB4267#1</td>\n",
       "      <td>Lammps</td>\n",
       "      <td>0.1</td>\n",
       "      <td>None</td>\n",
       "      <td>775.0</td>\n",
       "    </tr>\n",
       "    <tr>\n",
       "      <th>8</th>\n",
       "      <td>782</td>\n",
       "      <td>finished</td>\n",
       "      <td>Fe2</td>\n",
       "      <td>murn_atom_1_05</td>\n",
       "      <td>/murn_atom_1_05</td>\n",
       "      <td>None</td>\n",
       "      <td>C:/Users/pkruziko/Documents/pyiron_rdm/notebooks/murn_atomistics/murn_atom_hdf5/</td>\n",
       "      <td>2025-08-27 12:18:12.901346</td>\n",
       "      <td>2025-08-27 12:18:13.677699</td>\n",
       "      <td>0.0</td>\n",
       "      <td>pyiron@NB4267#1</td>\n",
       "      <td>Lammps</td>\n",
       "      <td>0.1</td>\n",
       "      <td>None</td>\n",
       "      <td>775.0</td>\n",
       "    </tr>\n",
       "  </tbody>\n",
       "</table>\n",
       "</div>"
      ],
      "text/plain": [
       "    id    status chemicalformula                  job                subjob  \\\n",
       "0  774  finished            None                table                /table   \n",
       "1  775  finished             Fe2            murn_atom            /murn_atom   \n",
       "2  776  finished             Fe2       murn_atom_0_95       /murn_atom_0_95   \n",
       "3  777  finished             Fe2  murn_atom_0_9666667  /murn_atom_0_9666667   \n",
       "4  778  finished             Fe2  murn_atom_0_9833333  /murn_atom_0_9833333   \n",
       "5  779  finished             Fe2        murn_atom_1_0        /murn_atom_1_0   \n",
       "6  780  finished             Fe2  murn_atom_1_0166667  /murn_atom_1_0166667   \n",
       "7  781  finished             Fe2  murn_atom_1_0333333  /murn_atom_1_0333333   \n",
       "8  782  finished             Fe2       murn_atom_1_05       /murn_atom_1_05   \n",
       "\n",
       "  projectpath  \\\n",
       "0        None   \n",
       "1        None   \n",
       "2        None   \n",
       "3        None   \n",
       "4        None   \n",
       "5        None   \n",
       "6        None   \n",
       "7        None   \n",
       "8        None   \n",
       "\n",
       "                                                                            project  \\\n",
       "0                 C:/Users/pkruziko/Documents/pyiron_rdm/notebooks/murn_atomistics/   \n",
       "1                 C:/Users/pkruziko/Documents/pyiron_rdm/notebooks/murn_atomistics/   \n",
       "2  C:/Users/pkruziko/Documents/pyiron_rdm/notebooks/murn_atomistics/murn_atom_hdf5/   \n",
       "3  C:/Users/pkruziko/Documents/pyiron_rdm/notebooks/murn_atomistics/murn_atom_hdf5/   \n",
       "4  C:/Users/pkruziko/Documents/pyiron_rdm/notebooks/murn_atomistics/murn_atom_hdf5/   \n",
       "5  C:/Users/pkruziko/Documents/pyiron_rdm/notebooks/murn_atomistics/murn_atom_hdf5/   \n",
       "6  C:/Users/pkruziko/Documents/pyiron_rdm/notebooks/murn_atomistics/murn_atom_hdf5/   \n",
       "7  C:/Users/pkruziko/Documents/pyiron_rdm/notebooks/murn_atomistics/murn_atom_hdf5/   \n",
       "8  C:/Users/pkruziko/Documents/pyiron_rdm/notebooks/murn_atomistics/murn_atom_hdf5/   \n",
       "\n",
       "                   timestart                   timestop  totalcputime  \\\n",
       "0 2025-08-27 12:16:08.544709 2025-08-27 12:16:10.245634           1.0   \n",
       "1 2025-08-27 12:18:03.213294 2025-08-27 12:18:14.368098          11.0   \n",
       "2 2025-08-27 12:18:05.045485 2025-08-27 12:18:05.862548           0.0   \n",
       "3 2025-08-27 12:18:06.394120 2025-08-27 12:18:07.218145           0.0   \n",
       "4 2025-08-27 12:18:07.724063 2025-08-27 12:18:08.543437           0.0   \n",
       "5 2025-08-27 12:18:09.031498 2025-08-27 12:18:09.835894           0.0   \n",
       "6 2025-08-27 12:18:10.297730 2025-08-27 12:18:11.094402           0.0   \n",
       "7 2025-08-27 12:18:11.600756 2025-08-27 12:18:12.402314           0.0   \n",
       "8 2025-08-27 12:18:12.901346 2025-08-27 12:18:13.677699           0.0   \n",
       "\n",
       "              computer   hamilton hamversion parentid  masterid  \n",
       "0      pyiron@NB4267#1   TableJob        0.1     None       NaN  \n",
       "1  pyiron@NB4267#1#7/7  Murnaghan      0.3.0     None       NaN  \n",
       "2      pyiron@NB4267#1     Lammps        0.1     None     775.0  \n",
       "3      pyiron@NB4267#1     Lammps        0.1     None     775.0  \n",
       "4      pyiron@NB4267#1     Lammps        0.1     None     775.0  \n",
       "5      pyiron@NB4267#1     Lammps        0.1     None     775.0  \n",
       "6      pyiron@NB4267#1     Lammps        0.1     None     775.0  \n",
       "7      pyiron@NB4267#1     Lammps        0.1     None     775.0  \n",
       "8      pyiron@NB4267#1     Lammps        0.1     None     775.0  "
      ]
     },
     "execution_count": 7,
     "metadata": {},
     "output_type": "execute_result"
    }
   ],
   "source": [
    "pr.job_table()"
   ]
  },
  {
   "cell_type": "markdown",
   "id": "4d5c2100-0c08-4060-ba78-0431a200cf0f",
   "metadata": {},
   "source": [
    "### Upload to BAM openBIS"
   ]
  },
  {
   "cell_type": "code",
   "execution_count": 8,
   "id": "55549abb-5721-44e4-a184-3534b6831e91",
   "metadata": {},
   "outputs": [],
   "source": [
    "from pyiron_rdm.classic import openbis_login, upload_classic_pyiron"
   ]
  },
  {
   "cell_type": "code",
   "execution_count": 9,
   "id": "c46d227f-d7f5-45ee-9e7d-950dadc7e171",
   "metadata": {},
   "outputs": [
    {
     "name": "stdin",
     "output_type": "stream",
     "text": [
      "Enter openBIS password:  ········\n"
     ]
    }
   ],
   "source": [
    "o = openbis_login(url=\"https://test3.datastore.bam.de/\", username=\"pkruziko\", instance=\"bam\")"
   ]
  },
  {
   "cell_type": "markdown",
   "id": "af5c037e-49bb-4556-b2d3-60498cdb810d",
   "metadata": {},
   "source": [
    "- For the `upload_classic_pyiron` function, an already existing space, project and collection need to be given. Please use the openBIS GUI or pybis if not yet created.\n",
    "- The `export_env_file=True` argument allows for the environment file to be exported and attached as dataset in openBIS.\n",
    "- If the initial job structure (`job.structure`) is not a unit cell with no manipulations made, an additional arguments should be used: `is_init_struct=False, init_structure=unit_cell_structure` to extract unit cell parameters properly.\n",
    "- You might need to add custom potentials using the openBIS GUI and upload the corresponding files. The code will attempt to find the used potential and will throw an error if no match is found."
   ]
  },
  {
   "cell_type": "code",
   "execution_count": 10,
   "id": "8a868bc9-d578-4d93-a09b-282c13c71ef3",
   "metadata": {},
   "outputs": [
    {
     "name": "stdout",
     "output_type": "stream",
     "text": [
      "sample successfully created.\n",
      "DataSet successfully created.\n",
      "DataSet successfully created.\n",
      "sample successfully created.\n",
      "DataSet successfully created.\n"
     ]
    },
    {
     "name": "stderr",
     "output_type": "stream",
     "text": [
      "C:\\Users\\pkruziko\\Documents\\pyiron_rdm\\pyiron_rdm\\ob_upload.py:193: UserWarning: The environment file was not uploaded.\n",
      "  warnings.warn(\"The environment file was not uploaded.\")\n"
     ]
    },
    {
     "name": "stdout",
     "output_type": "stream",
     "text": [
      "DataSet successfully created.\n",
      "WARNING: \"2025-08-27 12:18:03 +0200\" is not of any OpenBis supported datetime formats. Reformatting to \"2025-08-27 12:18:03\"\n",
      "sample successfully updated.\n",
      "sample successfully created.\n",
      "DataSet successfully created.\n",
      "DataSet successfully created.\n",
      "sample successfully created.\n",
      "DataSet successfully created.\n"
     ]
    },
    {
     "name": "stderr",
     "output_type": "stream",
     "text": [
      "C:\\Users\\pkruziko\\Documents\\pyiron_rdm\\pyiron_rdm\\ob_upload.py:193: UserWarning: The environment file was not uploaded.\n",
      "  warnings.warn(\"The environment file was not uploaded.\")\n"
     ]
    },
    {
     "name": "stdout",
     "output_type": "stream",
     "text": [
      "DataSet successfully created.\n",
      "sample successfully created.\n",
      "DataSet successfully created.\n",
      "DataSet successfully created.\n",
      "sample successfully created.\n",
      "DataSet successfully created.\n",
      "DataSet successfully created.\n",
      "sample successfully created.\n",
      "DataSet successfully created.\n",
      "DataSet successfully created.\n",
      "sample successfully created.\n",
      "DataSet successfully created.\n",
      "DataSet successfully created.\n",
      "sample successfully created.\n",
      "DataSet successfully created.\n",
      "DataSet successfully created.\n",
      "sample successfully created.\n",
      "DataSet successfully created.\n",
      "DataSet successfully created.\n",
      "WARNING: \"2025-08-27 12:18:03 +0200\" is not of any OpenBis supported datetime formats. Reformatting to \"2025-08-27 12:18:03\"\n",
      "sample successfully updated.\n"
     ]
    }
   ],
   "source": [
    "upload_classic_pyiron(murn, o, \"PKRUZIKO\", \"TEST\", \"TEST_CLASSIC_MURN\", export_env_file=False)"
   ]
  },
  {
   "cell_type": "code",
   "execution_count": 11,
   "id": "89deb001-97e7-4bfb-8ff0-4abc37b534f0",
   "metadata": {},
   "outputs": [],
   "source": [
    "o.logout()"
   ]
  },
  {
   "cell_type": "markdown",
   "id": "301e11c0-8b7c-4cba-ae95-fd3fd75b5943",
   "metadata": {},
   "source": [
    "### Upload to SFB1394 openBIS\n",
    "Here, metadata-rich objects are created in openBIS, and datasets are uploaded to Coscine, with a link in the openBIS instance."
   ]
  },
  {
   "cell_type": "code",
   "execution_count": 12,
   "id": "24735dab-f317-4a3e-a115-289ee661bfc2",
   "metadata": {},
   "outputs": [],
   "source": [
    "from pyiron_rdm.classic import openbis_login, upload_classic_pyiron"
   ]
  },
  {
   "cell_type": "code",
   "execution_count": 13,
   "id": "fd09b545-ef24-4826-a2e6-b207ef5a2b39",
   "metadata": {},
   "outputs": [
    {
     "name": "stdin",
     "output_type": "stream",
     "text": [
      "Enter openBIS password:  ········\n"
     ]
    }
   ],
   "source": [
    "o = openbis_login(url=\"https://openbis.imm.rwth-aachen.de/openbis/webapp/eln-lims/\", username=\"pavlinakruzikova\", \n",
    "                  instance=\"sfb1394\", s3_config_path=\"test_sfb.cfg\")"
   ]
  },
  {
   "cell_type": "markdown",
   "id": "a0c48116-6088-42c0-bb56-55679d4cc4c4",
   "metadata": {},
   "source": [
    "- For the `upload_classic_pyiron` function, an already existing space, project and collection need to be given. Please use the openBIS GUI or pybis if not yet created.\n",
    "- The `export_env_file=True` argument allows for the environment file to be exported and attached as dataset in openBIS.\n",
    "- If the initial job structure (`job.structure`) is not a unit cell with no manipulations made, an additional arguments should be used: `is_init_struct=False, init_structure=unit_cell_structure` to extract unit cell parameters properly.\n",
    "- You might need to add custom potentials using the openBIS GUI and upload the corresponding files. The code will attempt to find the used potential and will throw an error if no match is found."
   ]
  },
  {
   "cell_type": "code",
   "execution_count": 14,
   "id": "7250417a-6c60-404c-8a12-072592e4d374",
   "metadata": {},
   "outputs": [
    {
     "name": "stderr",
     "output_type": "stream",
     "text": [
      "DEBUG:pyiron_log:sql_query: {'job': 'murn_atom', 'project': 'C:/Users/pkruziko/Documents/pyiron_rdm/notebooks/murn_atomistics/'}\n",
      "DEBUG:pyiron_log:Not supported parameter used!\n",
      "DEBUG:pyiron_log:Not supported parameter used!\n",
      "DEBUG:pyiron_log:Not supported parameter used!\n",
      "DEBUG:pyiron_log:Not supported parameter used!\n",
      "DEBUG:pyiron_log:Not supported parameter used!\n",
      "DEBUG:pyiron_log:Not supported parameter used!\n",
      "DEBUG:pyiron_log:Not supported parameter used!\n",
      "DEBUG:pyiron_log:sql_query: {'job': 'murn_atom_0_95', 'project': 'C:/Users/pkruziko/Documents/pyiron_rdm/notebooks/murn_atomistics/murn_atom_hdf5/'}\n",
      "DEBUG:pyiron_log:sql_query: {'job': 'murn_atom_0_9666667', 'project': 'C:/Users/pkruziko/Documents/pyiron_rdm/notebooks/murn_atomistics/murn_atom_hdf5/'}\n",
      "DEBUG:pyiron_log:sql_query: {'job': 'murn_atom_0_9833333', 'project': 'C:/Users/pkruziko/Documents/pyiron_rdm/notebooks/murn_atomistics/murn_atom_hdf5/'}\n",
      "DEBUG:pyiron_log:sql_query: {'job': 'murn_atom_1_0', 'project': 'C:/Users/pkruziko/Documents/pyiron_rdm/notebooks/murn_atomistics/murn_atom_hdf5/'}\n",
      "DEBUG:pyiron_log:sql_query: {'job': 'murn_atom_1_0166667', 'project': 'C:/Users/pkruziko/Documents/pyiron_rdm/notebooks/murn_atomistics/murn_atom_hdf5/'}\n",
      "DEBUG:pyiron_log:sql_query: {'job': 'murn_atom_1_0333333', 'project': 'C:/Users/pkruziko/Documents/pyiron_rdm/notebooks/murn_atomistics/murn_atom_hdf5/'}\n",
      "DEBUG:pyiron_log:sql_query: {'job': 'murn_atom_1_05', 'project': 'C:/Users/pkruziko/Documents/pyiron_rdm/notebooks/murn_atomistics/murn_atom_hdf5/'}\n",
      "DEBUG:pyiron_log:sql_query: {'job': 'murn_atom', 'project': 'C:/Users/pkruziko/Documents/pyiron_rdm/notebooks/murn_atomistics/'}\n",
      "DEBUG:pyiron_log:sql_query: {'job': 'murn_atom', 'project': 'C:/Users/pkruziko/Documents/pyiron_rdm/notebooks/murn_atomistics/'}\n",
      "DEBUG:pyiron_log:Not supported parameter used!\n"
     ]
    },
    {
     "name": "stdout",
     "output_type": "stream",
     "text": [
      "sample successfully created.\n",
      "sample successfully created.\n"
     ]
    },
    {
     "name": "stderr",
     "output_type": "stream",
     "text": [
      "C:\\Users\\pkruziko\\Documents\\pyiron_rdm\\pyiron_rdm\\ob_upload.py:193: UserWarning: The environment file was not uploaded.\n",
      "  warnings.warn(\"The environment file was not uploaded.\")\n"
     ]
    },
    {
     "name": "stdout",
     "output_type": "stream",
     "text": [
      "sample successfully created.\n",
      "sample successfully updated.\n",
      "sample successfully created.\n"
     ]
    },
    {
     "name": "stderr",
     "output_type": "stream",
     "text": [
      "C:\\Users\\pkruziko\\Documents\\pyiron_rdm\\pyiron_rdm\\ob_upload.py:193: UserWarning: The environment file was not uploaded.\n",
      "  warnings.warn(\"The environment file was not uploaded.\")\n"
     ]
    },
    {
     "name": "stdout",
     "output_type": "stream",
     "text": [
      "WARNING: \"2025-08-27 12:18:05 +0000\" is not of any OpenBis supported datetime formats. Reformatting to \"2025-08-27 12:18:05\"\n",
      "sample successfully updated.\n",
      "sample successfully created.\n",
      "WARNING: \"2025-08-27 12:18:06 +0000\" is not of any OpenBis supported datetime formats. Reformatting to \"2025-08-27 12:18:06\"\n",
      "sample successfully updated.\n",
      "sample successfully created.\n",
      "WARNING: \"2025-08-27 12:18:07 +0000\" is not of any OpenBis supported datetime formats. Reformatting to \"2025-08-27 12:18:07\"\n",
      "sample successfully updated.\n",
      "sample successfully created.\n",
      "WARNING: \"2025-08-27 12:18:09 +0000\" is not of any OpenBis supported datetime formats. Reformatting to \"2025-08-27 12:18:09\"\n",
      "sample successfully updated.\n",
      "sample successfully created.\n",
      "WARNING: \"2025-08-27 12:18:10 +0000\" is not of any OpenBis supported datetime formats. Reformatting to \"2025-08-27 12:18:10\"\n",
      "sample successfully updated.\n",
      "sample successfully created.\n",
      "WARNING: \"2025-08-27 12:18:11 +0000\" is not of any OpenBis supported datetime formats. Reformatting to \"2025-08-27 12:18:11\"\n",
      "sample successfully updated.\n",
      "sample successfully created.\n",
      "WARNING: \"2025-08-27 12:18:12 +0000\" is not of any OpenBis supported datetime formats. Reformatting to \"2025-08-27 12:18:12\"\n",
      "sample successfully updated.\n",
      "WARNING: \"2025-08-27 12:18:03 +0000\" is not of any OpenBis supported datetime formats. Reformatting to \"2025-08-27 12:18:03\"\n",
      "sample successfully updated.\n"
     ]
    }
   ],
   "source": [
    "upload_classic_pyiron(murn, o, space=\"PAVLINAKRUZIKOVA\", project=\"PYIRON_UPLOAD\", collection=\"CLASSIC_MRN\", export_env_file=False)"
   ]
  },
  {
   "cell_type": "code",
   "execution_count": 15,
   "id": "217e411b-0e5b-4134-8abe-b7b480df7e1b",
   "metadata": {},
   "outputs": [],
   "source": [
    "o.logout()"
   ]
  },
  {
   "cell_type": "code",
   "execution_count": null,
   "id": "ad58331e-5b17-491f-84d7-ca928afdd69a",
   "metadata": {},
   "outputs": [],
   "source": []
  }
 ],
 "metadata": {
  "kernelspec": {
   "display_name": "Python 3 (ipykernel)",
   "language": "python",
   "name": "python3"
  },
  "language_info": {
   "codemirror_mode": {
    "name": "ipython",
    "version": 3
   },
   "file_extension": ".py",
   "mimetype": "text/x-python",
   "name": "python",
   "nbconvert_exporter": "python",
   "pygments_lexer": "ipython3",
   "version": "3.11.10"
  }
 },
 "nbformat": 4,
 "nbformat_minor": 5
}
