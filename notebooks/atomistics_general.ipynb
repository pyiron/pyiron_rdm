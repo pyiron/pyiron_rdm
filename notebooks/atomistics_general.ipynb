{
 "cells": [
  {
   "cell_type": "markdown",
   "id": "945f8adb-8dd6-42ea-b358-e421d6e07b98",
   "metadata": {},
   "source": [
    "##### Add pyiron_rdm to syspath"
   ]
  },
  {
   "cell_type": "code",
   "execution_count": 1,
   "id": "25e07dec-d8ba-4ba4-bffe-dd93dd4498a1",
   "metadata": {},
   "outputs": [],
   "source": [
    "import sys, os\n",
    "sys.path.append(os.path.abspath(os.path.join(os.getcwd(), '..')))"
   ]
  },
  {
   "cell_type": "markdown",
   "id": "5d7efe49-1c13-4ee8-8af0-ba2d24d031ec",
   "metadata": {},
   "source": [
    "## Upload of a generic pyiron job to openBIS\n",
    "\n",
    "This notebook shows the upload of a pyiron job for which specific metadata extraction is not supported, to the BAM or SFB1394 openBIS instances, using the pyiron_rdm interface."
   ]
  },
  {
   "cell_type": "code",
   "execution_count": 2,
   "id": "4bdacdfe-9eb6-4993-9526-ebb9f0a09a18",
   "metadata": {},
   "outputs": [
    {
     "name": "stderr",
     "output_type": "stream",
     "text": [
      "2025-08-27 11:50:52,740 - pyiron_log - WARNING - pyiron found a 'dynamic' folder in the C:/Users/pkruziko/pyiron/resources resource directory. These are no longer supported in pyiron_base >=0.7.0. They are replaced by Project.create_job_class() and Project.wrap_python_function().\n",
      "2025-08-27 11:50:52,742 - pyiron_log - WARNING - pyiron found a 'templates' folder in the C:/Users/pkruziko/pyiron/resources resource directory. These are no longer supported in pyiron_base >=0.7.0. They are replaced by Project.create_job_class() and Project.wrap_python_function().\n"
     ]
    },
    {
     "data": {
      "application/vnd.jupyter.widget-view+json": {
       "model_id": "81312286a7d0494a867bdc378eb6c727",
       "version_major": 2,
       "version_minor": 0
      },
      "text/plain": []
     },
     "metadata": {},
     "output_type": "display_data"
    }
   ],
   "source": [
    "from pyiron_atomistics import Project"
   ]
  },
  {
   "cell_type": "code",
   "execution_count": 3,
   "id": "86d0b052-c100-44b2-82ca-09784e1557fa",
   "metadata": {},
   "outputs": [],
   "source": [
    "# project\n",
    "\n",
    "pr = Project(\"general_atomistics\")"
   ]
  },
  {
   "cell_type": "code",
   "execution_count": 4,
   "id": "b47a0545-e84e-46f2-9445-ea9a5bbc05b8",
   "metadata": {},
   "outputs": [
    {
     "data": {
      "application/vnd.jupyter.widget-view+json": {
       "model_id": "e8f9a35f06fc4d6eaff2576f3ed80217",
       "version_major": 2,
       "version_minor": 0
      },
      "text/plain": [
       "NGLWidget()"
      ]
     },
     "metadata": {},
     "output_type": "display_data"
    }
   ],
   "source": [
    "# structure\n",
    "\n",
    "structure = pr.create.structure.bulk(\"Fe\", cubic=True, a=2.845)\n",
    "structure.plot3d()"
   ]
  },
  {
   "cell_type": "code",
   "execution_count": 5,
   "id": "1305ec9f-7ad1-4edc-8dec-1620e1c7adfa",
   "metadata": {},
   "outputs": [
    {
     "name": "stdout",
     "output_type": "stream",
     "text": [
      "The job general_atom was saved and received the ID: 758\n"
     ]
    }
   ],
   "source": [
    "# lammps minimise job\n",
    "\n",
    "job = pr.create.job.AtomisticExampleJob(\"general_atom\", delete_existing_job=True)\n",
    "job.structure = structure\n",
    "job.run()"
   ]
  },
  {
   "cell_type": "code",
   "execution_count": 6,
   "id": "5c021d57-f20a-4ac4-a8f5-197bcf12974b",
   "metadata": {},
   "outputs": [
    {
     "data": {
      "text/html": [
       "<div>\n",
       "<style scoped>\n",
       "    .dataframe tbody tr th:only-of-type {\n",
       "        vertical-align: middle;\n",
       "    }\n",
       "\n",
       "    .dataframe tbody tr th {\n",
       "        vertical-align: top;\n",
       "    }\n",
       "\n",
       "    .dataframe thead th {\n",
       "        text-align: right;\n",
       "    }\n",
       "</style>\n",
       "<table border=\"1\" class=\"dataframe\">\n",
       "  <thead>\n",
       "    <tr style=\"text-align: right;\">\n",
       "      <th></th>\n",
       "      <th>id</th>\n",
       "      <th>status</th>\n",
       "      <th>chemicalformula</th>\n",
       "      <th>job</th>\n",
       "      <th>subjob</th>\n",
       "      <th>projectpath</th>\n",
       "      <th>project</th>\n",
       "      <th>timestart</th>\n",
       "      <th>timestop</th>\n",
       "      <th>totalcputime</th>\n",
       "      <th>computer</th>\n",
       "      <th>hamilton</th>\n",
       "      <th>hamversion</th>\n",
       "      <th>parentid</th>\n",
       "      <th>masterid</th>\n",
       "    </tr>\n",
       "  </thead>\n",
       "  <tbody>\n",
       "    <tr>\n",
       "      <th>0</th>\n",
       "      <td>758</td>\n",
       "      <td>finished</td>\n",
       "      <td>Fe2</td>\n",
       "      <td>general_atom</td>\n",
       "      <td>/general_atom</td>\n",
       "      <td>None</td>\n",
       "      <td>C:/Users/pkruziko/Documents/pyiron_rdm/notebooks/general_atomistics/</td>\n",
       "      <td>2025-08-27 11:50:59.172514</td>\n",
       "      <td>2025-08-27 11:51:11.551628</td>\n",
       "      <td>12.0</td>\n",
       "      <td>pyiron@NB4267#1</td>\n",
       "      <td>AtomisticExampleJob</td>\n",
       "      <td>0.3</td>\n",
       "      <td>None</td>\n",
       "      <td>None</td>\n",
       "    </tr>\n",
       "  </tbody>\n",
       "</table>\n",
       "</div>"
      ],
      "text/plain": [
       "    id    status chemicalformula           job         subjob projectpath  \\\n",
       "0  758  finished             Fe2  general_atom  /general_atom        None   \n",
       "\n",
       "                                                                project  \\\n",
       "0  C:/Users/pkruziko/Documents/pyiron_rdm/notebooks/general_atomistics/   \n",
       "\n",
       "                   timestart                   timestop  totalcputime  \\\n",
       "0 2025-08-27 11:50:59.172514 2025-08-27 11:51:11.551628          12.0   \n",
       "\n",
       "          computer             hamilton hamversion parentid masterid  \n",
       "0  pyiron@NB4267#1  AtomisticExampleJob        0.3     None     None  "
      ]
     },
     "execution_count": 6,
     "metadata": {},
     "output_type": "execute_result"
    }
   ],
   "source": [
    "pr.job_table()"
   ]
  },
  {
   "cell_type": "markdown",
   "id": "567f8177-43c4-4362-9e55-87175e514a46",
   "metadata": {},
   "source": [
    "### Upload to BAM openBIS"
   ]
  },
  {
   "cell_type": "code",
   "execution_count": 7,
   "id": "2932059d-8fc7-43d6-999c-b2a7e359214e",
   "metadata": {},
   "outputs": [],
   "source": [
    "from pyiron_rdm.classic import openbis_login, upload_classic_pyiron"
   ]
  },
  {
   "cell_type": "code",
   "execution_count": 8,
   "id": "e1e16ebc-379d-467c-ac41-d2720c849597",
   "metadata": {},
   "outputs": [
    {
     "name": "stdin",
     "output_type": "stream",
     "text": [
      "Enter openBIS password:  ········\n"
     ]
    }
   ],
   "source": [
    "o = openbis_login(url=\"https://test3.datastore.bam.de/\", username=\"pkruziko\", instance=\"bam\")"
   ]
  },
  {
   "cell_type": "markdown",
   "id": "bdd614e5-a0a8-42e4-8b8c-d67c7ae77d9d",
   "metadata": {},
   "source": [
    "- For the `upload_classic_pyiron` function, an already existing space, project and collection need to be given. Please use the openBIS GUI or pybis if not yet created.\n",
    "- The `export_env_file=True` argument allows for the environment file to be exported and attached as dataset in openBIS.\n",
    "- If the initial job structure (`job.structure`) is not a unit cell with no manipulations made, an additional arguments should be used: `is_init_struct=False, init_structure=unit_cell_structure` to extract unit cell parameters properly.\n",
    "- You might need to add custom potentials using the openBIS GUI and upload the corresponding files. The code will attempt to find the used potential and will throw an error if no match is found."
   ]
  },
  {
   "cell_type": "code",
   "execution_count": 9,
   "id": "8a868bc9-d578-4d93-a09b-282c13c71ef3",
   "metadata": {},
   "outputs": [
    {
     "name": "stdout",
     "output_type": "stream",
     "text": [
      "The <class 'pyiron_atomistics.testing.randomatomistic.AtomisticExampleJob'> job type is not implemented for OpenBIS upload yet.\n"
     ]
    },
    {
     "name": "stdin",
     "output_type": "stream",
     "text": [
      "Type 'yes' to proceed with an upload to general pyiron job type. yes\n"
     ]
    },
    {
     "name": "stdout",
     "output_type": "stream",
     "text": [
      "sample successfully created.\n",
      "DataSet successfully created.\n",
      "DataSet successfully created.\n",
      "sample successfully created.\n",
      "DataSet successfully created.\n"
     ]
    },
    {
     "name": "stderr",
     "output_type": "stream",
     "text": [
      "C:\\Users\\pkruziko\\Documents\\pyiron_rdm\\pyiron_rdm\\ob_upload.py:193: UserWarning: The environment file was not uploaded.\n",
      "  warnings.warn(\"The environment file was not uploaded.\")\n"
     ]
    },
    {
     "name": "stdout",
     "output_type": "stream",
     "text": [
      "DataSet successfully created.\n",
      "WARNING: \"2025-08-27 11:50:59 +0200\" is not of any OpenBis supported datetime formats. Reformatting to \"2025-08-27 11:50:59\"\n",
      "sample successfully updated.\n"
     ]
    }
   ],
   "source": [
    "upload_classic_pyiron(job, o, \"PKRUZIKO\", \"TEST\", \"TEST_CLASSIC_GENERAL\", export_env_file=False)"
   ]
  },
  {
   "cell_type": "code",
   "execution_count": 10,
   "id": "89deb001-97e7-4bfb-8ff0-4abc37b534f0",
   "metadata": {},
   "outputs": [],
   "source": [
    "o.logout()"
   ]
  },
  {
   "cell_type": "markdown",
   "id": "abe94d8b-a36a-43f9-af41-321e056e949e",
   "metadata": {},
   "source": [
    "### Upload to SFB1394 openBIS\n",
    "Here, metadata-rich objects are created in openBIS, and datasets are uploaded to Coscine, with a link in the openBIS instance."
   ]
  },
  {
   "cell_type": "code",
   "execution_count": 11,
   "id": "7f6ce885-cf70-4849-9148-83c5f1efcdc2",
   "metadata": {},
   "outputs": [],
   "source": [
    "from pyiron_rdm.classic import openbis_login"
   ]
  },
  {
   "cell_type": "code",
   "execution_count": 12,
   "id": "8aff7b66-d10c-4936-bd34-5cb963d3f1b1",
   "metadata": {},
   "outputs": [
    {
     "name": "stdin",
     "output_type": "stream",
     "text": [
      "Enter openBIS password:  ········\n"
     ]
    }
   ],
   "source": [
    "o = openbis_login(url=\"https://openbis.imm.rwth-aachen.de/openbis/webapp/eln-lims/\", username=\"pavlinakruzikova\", \n",
    "                  instance=\"sfb1394\", s3_config_path=\"test_sfb.cfg\")"
   ]
  },
  {
   "cell_type": "markdown",
   "id": "a2f471a3-7037-4daf-bab2-17c9831a01e1",
   "metadata": {},
   "source": [
    "- For the `upload_classic_pyiron` function, an already existing space, project and collection need to be given. Please use the openBIS GUI or pybis if not yet created.\n",
    "- The `export_env_file=True` argument allows for the environment file to be exported and attached as dataset in openBIS.\n",
    "- If the initial job structure (`job.structure`) is not a unit cell with no manipulations made, an additional arguments should be used: `is_init_struct=False, init_structure=unit_cell_structure` to extract unit cell parameters properly.\n",
    "- You might need to add custom potentials using the openBIS GUI and upload the corresponding files. The code will attempt to find the used potential and will throw an error if no match is found."
   ]
  },
  {
   "cell_type": "code",
   "execution_count": 13,
   "id": "23772a67-0c9c-4f7a-a8a4-85d77587a7a4",
   "metadata": {},
   "outputs": [
    {
     "name": "stdout",
     "output_type": "stream",
     "text": [
      "The <class 'pyiron_atomistics.testing.randomatomistic.AtomisticExampleJob'> job type is not implemented for OpenBIS upload yet.\n"
     ]
    },
    {
     "name": "stdin",
     "output_type": "stream",
     "text": [
      "Type 'yes' to proceed with an upload to general pyiron job type. yes\n"
     ]
    },
    {
     "name": "stderr",
     "output_type": "stream",
     "text": [
      "2025-08-27 11:53:10,135 - pyiron_log - WARNING - Could not access positions, returning None!\n",
      "2025-08-27 11:53:10,209 - pyiron_log - WARNING - Could not access cells, returning None!\n",
      "2025-08-27 11:53:10,278 - pyiron_log - WARNING - Could not access cells, returning None!\n",
      "2025-08-27 11:53:10,356 - pyiron_log - WARNING - Could not access cells, returning None!\n",
      "2025-08-27 11:53:10,422 - pyiron_log - WARNING - Could not access cells, returning None!\n"
     ]
    },
    {
     "name": "stdout",
     "output_type": "stream",
     "text": [
      "sample successfully created.\n",
      "sample successfully created.\n"
     ]
    },
    {
     "name": "stderr",
     "output_type": "stream",
     "text": [
      "C:\\Users\\pkruziko\\Documents\\pyiron_rdm\\pyiron_rdm\\ob_upload.py:193: UserWarning: The environment file was not uploaded.\n",
      "  warnings.warn(\"The environment file was not uploaded.\")\n"
     ]
    },
    {
     "name": "stdout",
     "output_type": "stream",
     "text": [
      "sample successfully created.\n",
      "sample successfully updated.\n"
     ]
    }
   ],
   "source": [
    "upload_classic_pyiron(job, o, space=\"PAVLINAKRUZIKOVA\", project=\"PYIRON_UPLOAD\", collection=\"CLASSIC_GEN\", export_env_file=False)"
   ]
  },
  {
   "cell_type": "code",
   "execution_count": 14,
   "id": "7b4e0f3f-9e0f-4f50-ace3-2bf009554b21",
   "metadata": {},
   "outputs": [],
   "source": [
    "o.logout()"
   ]
  },
  {
   "cell_type": "code",
   "execution_count": null,
   "id": "ec55f5d9-a9de-4cc9-be50-7c64837e1f32",
   "metadata": {},
   "outputs": [],
   "source": []
  }
 ],
 "metadata": {
  "kernelspec": {
   "display_name": "Python 3 (ipykernel)",
   "language": "python",
   "name": "python3"
  },
  "language_info": {
   "codemirror_mode": {
    "name": "ipython",
    "version": 3
   },
   "file_extension": ".py",
   "mimetype": "text/x-python",
   "name": "python",
   "nbconvert_exporter": "python",
   "pygments_lexer": "ipython3",
   "version": "3.12.11"
  }
 },
 "nbformat": 4,
 "nbformat_minor": 5
}
