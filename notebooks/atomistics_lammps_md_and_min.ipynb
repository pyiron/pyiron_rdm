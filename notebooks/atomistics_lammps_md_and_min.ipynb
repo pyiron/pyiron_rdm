{
 "cells": [
  {
   "cell_type": "markdown",
   "id": "d8446a69-e55c-4df3-8a50-16d09e591c66",
   "metadata": {
    "jp-MarkdownHeadingCollapsed": true
   },
   "source": [
    "##### Add pyiron_rdm to syspath"
   ]
  },
  {
   "cell_type": "code",
   "execution_count": 1,
   "id": "bb644f1b-9f47-48d6-8281-750e3fecaec0",
   "metadata": {},
   "outputs": [],
   "source": [
    "import sys, os\n",
    "sys.path.append(os.path.abspath(os.path.join(os.getcwd(), '..')))"
   ]
  },
  {
   "cell_type": "markdown",
   "id": "dc26c7d8-c53f-48ce-a4ea-400ffedbba01",
   "metadata": {},
   "source": [
    "## Upload of a pyiron LAMMPS job to openBIS\n",
    "\n",
    "This notebook shows the upload of a number of types of pyiron a LAMMPS job to the BAM or SFB1394 openBIS instances, using the pyiron_rdm interface."
   ]
  },
  {
   "cell_type": "code",
   "execution_count": 2,
   "id": "1ceca573-5878-4a2b-832d-ab64de3e60d8",
   "metadata": {},
   "outputs": [
    {
     "name": "stderr",
     "output_type": "stream",
     "text": [
      "2025-08-27 11:56:17,089 - pyiron_log - WARNING - pyiron found a 'dynamic' folder in the C:/Users/pkruziko/pyiron/resources resource directory. These are no longer supported in pyiron_base >=0.7.0. They are replaced by Project.create_job_class() and Project.wrap_python_function().\n",
      "2025-08-27 11:56:17,090 - pyiron_log - WARNING - pyiron found a 'templates' folder in the C:/Users/pkruziko/pyiron/resources resource directory. These are no longer supported in pyiron_base >=0.7.0. They are replaced by Project.create_job_class() and Project.wrap_python_function().\n"
     ]
    },
    {
     "data": {
      "application/vnd.jupyter.widget-view+json": {
       "model_id": "8b6a3bb2cc76474ebb35dbb36c51781a",
       "version_major": 2,
       "version_minor": 0
      },
      "text/plain": []
     },
     "metadata": {},
     "output_type": "display_data"
    }
   ],
   "source": [
    "from pyiron_atomistics import Project\n",
    "from pyiron_rdm.classic import openbis_login, upload_classic_pyiron"
   ]
  },
  {
   "cell_type": "code",
   "execution_count": 3,
   "id": "f2f52a51-b5de-4f33-ac81-203b444e3c28",
   "metadata": {},
   "outputs": [],
   "source": [
    "pr = Project(path='lammps_extended')"
   ]
  },
  {
   "cell_type": "code",
   "execution_count": 4,
   "id": "d0d3b30e-c870-4cc9-bd9a-ee0148036856",
   "metadata": {},
   "outputs": [],
   "source": [
    "basis = pr.create.structure.bulk('Fe', cubic=True)"
   ]
  },
  {
   "cell_type": "code",
   "execution_count": 5,
   "id": "ee4ce416-8651-4bdc-8920-07a1ab31717b",
   "metadata": {},
   "outputs": [
    {
     "data": {
      "application/vnd.jupyter.widget-view+json": {
       "model_id": "597b95933a334f7f9202ff5c2a5b599c",
       "version_major": 2,
       "version_minor": 0
      },
      "text/plain": [
       "NGLWidget()"
      ]
     },
     "metadata": {},
     "output_type": "display_data"
    }
   ],
   "source": [
    "supercell_3x3x3 = basis.repeat([3, 3, 3])\n",
    "supercell_3x3x3.plot3d()"
   ]
  },
  {
   "cell_type": "markdown",
   "id": "72efc755-c52d-4841-9c62-044434271993",
   "metadata": {},
   "source": [
    "### openBIS login\n",
    "Uncomment/Comment out login & upload lines throughout the notebook based on the target openBIS instance."
   ]
  },
  {
   "cell_type": "code",
   "execution_count": 6,
   "id": "805f8f93-9530-4aed-87eb-275e0745ec6f",
   "metadata": {},
   "outputs": [
    {
     "name": "stdin",
     "output_type": "stream",
     "text": [
      "Enter openBIS password:  ········\n"
     ]
    }
   ],
   "source": [
    "o = openbis_login(url=\"https://test3.datastore.bam.de/\", username=\"pkruziko\", instance=\"bam\")\n",
    "# o = openbis_login(url=\"https://openbis.imm.rwth-aachen.de/openbis/webapp/eln-lims/\", username=\"pavlinakruzikova\", \n",
    "#                   instance=\"sfb1394\", s3_confg_path=\"test_sfb.cgf\")"
   ]
  },
  {
   "cell_type": "markdown",
   "id": "76721726-e1a4-4373-a552-60f959405349",
   "metadata": {},
   "source": [
    "### Minimization"
   ]
  },
  {
   "cell_type": "code",
   "execution_count": 7,
   "id": "6a992100-ca61-43f1-9ab7-ffc770e4ed00",
   "metadata": {},
   "outputs": [
    {
     "name": "stdout",
     "output_type": "stream",
     "text": [
      "Selected potential:  2022--Sun-Y--Fe--LAMMPS--ipr1\n",
      "The job Fe_minimize was saved and received the ID: 759\n"
     ]
    }
   ],
   "source": [
    "job1 = pr.create_job(job_type=pr.job_type.Lammps, job_name='Fe_minimize', delete_existing_job=True)\n",
    "job1.structure = supercell_3x3x3\n",
    "job1.calc_minimize(ionic_force_tolerance=1e-8, style=\"cg\")\n",
    "pot = job1.list_potentials()[68]\n",
    "print('Selected potential: ', pot)\n",
    "job1.potential = pot\n",
    "job1.run()"
   ]
  },
  {
   "cell_type": "code",
   "execution_count": 8,
   "id": "7c0a257a-1128-4e17-8765-677d501539a0",
   "metadata": {},
   "outputs": [
    {
     "name": "stdout",
     "output_type": "stream",
     "text": [
      "sample successfully created.\n",
      "DataSet successfully created.\n",
      "DataSet successfully created.\n",
      "sample successfully created.\n",
      "DataSet successfully created.\n"
     ]
    },
    {
     "name": "stderr",
     "output_type": "stream",
     "text": [
      "C:\\Users\\pkruziko\\Documents\\pyiron_rdm\\pyiron_rdm\\ob_upload.py:193: UserWarning: The environment file was not uploaded.\n",
      "  warnings.warn(\"The environment file was not uploaded.\")\n"
     ]
    },
    {
     "name": "stdout",
     "output_type": "stream",
     "text": [
      "DataSet successfully created.\n",
      "WARNING: \"2025-08-27 11:56:44 +0200\" is not of any OpenBis supported datetime formats. Reformatting to \"2025-08-27 11:56:44\"\n",
      "sample successfully updated.\n"
     ]
    }
   ],
   "source": [
    "upload_classic_pyiron(job1, o, space=\"PKRUZIKO\", project=\"TEST\", collection=\"TEST_CLASSIC_LAMMPS\", \n",
    "                      export_env_file=False, is_init_struct=False, init_structure=basis)                            # BAM\n",
    "# upload_classic_pyiron(job1, o, space=\"PAVLINAKRUZIKOVA\", project=\"PYIRON_UPLOAD\", collection=\"CLASSIC_LMP_EXT\", \n",
    "#                       export_env_file=False, is_init_struct=False, init_structure=basis)                            # SFB1394"
   ]
  },
  {
   "cell_type": "markdown",
   "id": "b448d4ad-50bc-4a3b-a452-077287eb2bfb",
   "metadata": {},
   "source": [
    "### Optimization"
   ]
  },
  {
   "cell_type": "code",
   "execution_count": 9,
   "id": "86ef2af8-ae81-409b-b483-efa63c06c926",
   "metadata": {},
   "outputs": [
    {
     "name": "stdout",
     "output_type": "stream",
     "text": [
      "Selected potential:  2022--Sun-Y--Fe--LAMMPS--ipr1\n",
      "The job Fe_optimize was saved and received the ID: 760\n"
     ]
    }
   ],
   "source": [
    "job2 = pr.create_job(job_type=pr.job_type.Lammps, job_name='Fe_optimize', delete_existing_job=True)\n",
    "job2.structure = supercell_3x3x3\n",
    "job2.calc_minimize(ionic_force_tolerance=1e-8, style=\"cg\", pressure=0)\n",
    "pot = job2.list_potentials()[68]\n",
    "print('Selected potential: ', pot)\n",
    "job2.potential = pot\n",
    "job2.run()"
   ]
  },
  {
   "cell_type": "code",
   "execution_count": 10,
   "id": "e026f1a8-aa88-4a5c-839c-5fdf075b9a96",
   "metadata": {},
   "outputs": [
    {
     "name": "stdout",
     "output_type": "stream",
     "text": [
      "sample successfully created.\n",
      "DataSet successfully created.\n",
      "DataSet successfully created.\n",
      "sample successfully created.\n",
      "DataSet successfully created.\n"
     ]
    },
    {
     "name": "stderr",
     "output_type": "stream",
     "text": [
      "C:\\Users\\pkruziko\\Documents\\pyiron_rdm\\pyiron_rdm\\ob_upload.py:193: UserWarning: The environment file was not uploaded.\n",
      "  warnings.warn(\"The environment file was not uploaded.\")\n"
     ]
    },
    {
     "name": "stdout",
     "output_type": "stream",
     "text": [
      "DataSet successfully created.\n",
      "WARNING: \"2025-08-27 11:57:09 +0200\" is not of any OpenBis supported datetime formats. Reformatting to \"2025-08-27 11:57:09\"\n",
      "sample successfully updated.\n"
     ]
    }
   ],
   "source": [
    "upload_classic_pyiron(job2, o, space=\"PKRUZIKO\", project=\"TEST\", collection=\"TEST_CLASSIC_LAMMPS\", \n",
    "                      export_env_file=False, is_init_struct=False, init_structure=basis)                            # BAM\n",
    "# upload_classic_pyiron(job2, o, space=\"PAVLINAKRUZIKOVA\", project=\"PYIRON_UPLOAD\", collection=\"CLASSIC_LMP_EXT\", \n",
    "#                       export_env_file=False, is_init_struct=False, init_structure=basis)                            # SFB1394"
   ]
  },
  {
   "cell_type": "markdown",
   "id": "38a4fed4-80eb-4a94-9fb0-da0ff19cf1ac",
   "metadata": {},
   "source": [
    "### Micro-canonical (NVE)"
   ]
  },
  {
   "cell_type": "code",
   "execution_count": 11,
   "id": "dd06e8b5-0d47-4276-ad0d-403bdbc0ec59",
   "metadata": {},
   "outputs": [
    {
     "name": "stdout",
     "output_type": "stream",
     "text": [
      "Selected potential:  2022--Sun-Y--Fe--LAMMPS--ipr1\n",
      "The job Fe_nve was saved and received the ID: 761\n"
     ]
    }
   ],
   "source": [
    "job3 = pr.create_job(job_type=pr.job_type.Lammps, job_name='Fe_nve', delete_existing_job=True)\n",
    "job3.structure = supercell_3x3x3\n",
    "job3.calc_md(n_ionic_steps=10000)\n",
    "pot = job3.list_potentials()[68]\n",
    "print('Selected potential: ', pot)\n",
    "job3.potential = pot\n",
    "job3.run()"
   ]
  },
  {
   "cell_type": "code",
   "execution_count": 12,
   "id": "2a29a1d6-6462-4321-93a2-67880204c17f",
   "metadata": {},
   "outputs": [
    {
     "name": "stdout",
     "output_type": "stream",
     "text": [
      "sample successfully created.\n",
      "DataSet successfully created.\n",
      "DataSet successfully created.\n",
      "sample successfully created.\n",
      "DataSet successfully created.\n"
     ]
    },
    {
     "name": "stderr",
     "output_type": "stream",
     "text": [
      "C:\\Users\\pkruziko\\Documents\\pyiron_rdm\\pyiron_rdm\\ob_upload.py:193: UserWarning: The environment file was not uploaded.\n",
      "  warnings.warn(\"The environment file was not uploaded.\")\n"
     ]
    },
    {
     "name": "stdout",
     "output_type": "stream",
     "text": [
      "DataSet successfully created.\n",
      "WARNING: \"2025-08-27 11:57:19 +0200\" is not of any OpenBis supported datetime formats. Reformatting to \"2025-08-27 11:57:19\"\n",
      "sample successfully updated.\n"
     ]
    }
   ],
   "source": [
    "upload_classic_pyiron(job3, o, space=\"PKRUZIKO\", project=\"TEST\", collection=\"TEST_CLASSIC_LAMMPS\", \n",
    "                      export_env_file=False, is_init_struct=False, init_structure=basis)                            # BAM\n",
    "# upload_classic_pyiron(job3, o, space=\"PAVLINAKRUZIKOVA\", project=\"PYIRON_UPLOAD\", collection=\"CLASSIC_LMP_EXT\", \n",
    "#                       export_env_file=False, is_init_struct=False, init_structure=basis)                            # SFB1394"
   ]
  },
  {
   "cell_type": "markdown",
   "id": "9fd23b13-03a0-41dc-8b64-2521e491fb6d",
   "metadata": {},
   "source": [
    "### Canonical (NVT)"
   ]
  },
  {
   "cell_type": "code",
   "execution_count": 13,
   "id": "161a8079-eede-4b2d-835c-b64725b0a935",
   "metadata": {},
   "outputs": [
    {
     "name": "stdout",
     "output_type": "stream",
     "text": [
      "Selected potential:  2022--Sun-Y--Fe--LAMMPS--ipr1\n",
      "The job Fe_nvt was saved and received the ID: 762\n"
     ]
    }
   ],
   "source": [
    "job4 = pr.create_job(job_type=pr.job_type.Lammps, job_name='Fe_nvt', delete_existing_job=True)\n",
    "job4.structure = supercell_3x3x3\n",
    "job4.calc_md(n_ionic_steps=10000, temperature=300)\n",
    "pot = job4.list_potentials()[68]\n",
    "print('Selected potential: ', pot)\n",
    "job4.potential = pot\n",
    "job4.run()"
   ]
  },
  {
   "cell_type": "code",
   "execution_count": 14,
   "id": "a0dba771-6d0d-47a7-897b-a7a254074c12",
   "metadata": {},
   "outputs": [
    {
     "name": "stdout",
     "output_type": "stream",
     "text": [
      "sample successfully created.\n",
      "DataSet successfully created.\n",
      "DataSet successfully created.\n",
      "sample successfully created.\n",
      "DataSet successfully created.\n"
     ]
    },
    {
     "name": "stderr",
     "output_type": "stream",
     "text": [
      "C:\\Users\\pkruziko\\Documents\\pyiron_rdm\\pyiron_rdm\\ob_upload.py:193: UserWarning: The environment file was not uploaded.\n",
      "  warnings.warn(\"The environment file was not uploaded.\")\n"
     ]
    },
    {
     "name": "stdout",
     "output_type": "stream",
     "text": [
      "DataSet successfully created.\n",
      "WARNING: \"2025-08-27 11:57:33 +0200\" is not of any OpenBis supported datetime formats. Reformatting to \"2025-08-27 11:57:33\"\n",
      "sample successfully updated.\n"
     ]
    }
   ],
   "source": [
    "upload_classic_pyiron(job4, o, space=\"PKRUZIKO\", project=\"TEST\", collection=\"TEST_CLASSIC_LAMMPS\", \n",
    "                      export_env_file=False, is_init_struct=False, init_structure=basis)                            # BAM\n",
    "# upload_classic_pyiron(job4, o, space=\"PAVLINAKRUZIKOVA\", project=\"PYIRON_UPLOAD\", collection=\"CLASSIC_LMP_EXT\", \n",
    "#                       export_env_file=False, is_init_struct=False, init_structure=basis)                            # SFB1394"
   ]
  },
  {
   "cell_type": "markdown",
   "id": "6918ad64-4f91-439b-ad2d-7d98a893fef7",
   "metadata": {},
   "source": [
    "### Isothermal-isobaric (NPT)"
   ]
  },
  {
   "cell_type": "code",
   "execution_count": 15,
   "id": "2b9a9343-1a30-462f-a902-d9faaf3947e8",
   "metadata": {},
   "outputs": [
    {
     "name": "stdout",
     "output_type": "stream",
     "text": [
      "Selected potential:  2022--Sun-Y--Fe--LAMMPS--ipr1\n",
      "The job Fe_npt was saved and received the ID: 763\n"
     ]
    }
   ],
   "source": [
    "job5 = pr.create_job(job_type=pr.job_type.Lammps, job_name='Fe_npt', delete_existing_job=True)\n",
    "job5.structure = supercell_3x3x3\n",
    "job5.calc_md(n_ionic_steps=10000, temperature=300, pressure=0)\n",
    "pot = job5.list_potentials()[68]\n",
    "print('Selected potential: ', pot)\n",
    "job5.potential = pot\n",
    "job5.run()"
   ]
  },
  {
   "cell_type": "code",
   "execution_count": 16,
   "id": "1a669569-5a3a-42b5-94b2-decf02fd01e5",
   "metadata": {},
   "outputs": [
    {
     "name": "stdout",
     "output_type": "stream",
     "text": [
      "sample successfully created.\n",
      "DataSet successfully created.\n",
      "DataSet successfully created.\n",
      "sample successfully created.\n",
      "DataSet successfully created.\n"
     ]
    },
    {
     "name": "stderr",
     "output_type": "stream",
     "text": [
      "C:\\Users\\pkruziko\\Documents\\pyiron_rdm\\pyiron_rdm\\ob_upload.py:193: UserWarning: The environment file was not uploaded.\n",
      "  warnings.warn(\"The environment file was not uploaded.\")\n"
     ]
    },
    {
     "name": "stdout",
     "output_type": "stream",
     "text": [
      "DataSet successfully created.\n",
      "WARNING: \"2025-08-27 11:57:43 +0200\" is not of any OpenBis supported datetime formats. Reformatting to \"2025-08-27 11:57:43\"\n",
      "sample successfully updated.\n"
     ]
    }
   ],
   "source": [
    "upload_classic_pyiron(job5, o, space=\"PKRUZIKO\", project=\"TEST\", collection=\"TEST_CLASSIC_LAMMPS\", \n",
    "                      export_env_file=False, is_init_struct=False, init_structure=basis)                            # BAM\n",
    "# upload_classic_pyiron(job5, o, space=\"PAVLINAKRUZIKOVA\", project=\"PYIRON_UPLOAD\", collection=\"CLASSIC_LMP_EXT\", \n",
    "#                       export_env_file=False, is_init_struct=False, init_structure=basis)                            # SFB1394"
   ]
  },
  {
   "cell_type": "code",
   "execution_count": 17,
   "id": "1eb10e0b-1cfa-4470-a843-e8dd9c237b5d",
   "metadata": {},
   "outputs": [],
   "source": [
    "o.logout()"
   ]
  },
  {
   "cell_type": "code",
   "execution_count": null,
   "id": "d7ae30e4-42bd-4bde-bb32-19968849f92c",
   "metadata": {},
   "outputs": [],
   "source": []
  }
 ],
 "metadata": {
  "kernelspec": {
   "display_name": "Python 3 (ipykernel)",
   "language": "python",
   "name": "python3"
  },
  "language_info": {
   "codemirror_mode": {
    "name": "ipython",
    "version": 3
   },
   "file_extension": ".py",
   "mimetype": "text/x-python",
   "name": "python",
   "nbconvert_exporter": "python",
   "pygments_lexer": "ipython3",
   "version": "3.11.10"
  }
 },
 "nbformat": 4,
 "nbformat_minor": 5
}
